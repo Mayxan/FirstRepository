{
 "cells": [
  {
   "cell_type": "markdown",
   "id": "50533c91-f38e-4fa0-9c89-b8a1700d3158",
   "metadata": {},
   "source": [
    "# Data Science Tools and Ecosystem"
   ]
  },
  {
   "cell_type": "markdown",
   "id": "efdd1177-28bd-49dc-87c5-5839aeb5a823",
   "metadata": {},
   "source": [
    "In this notebook, Data Science Tools and Ecosystem are summarized"
   ]
  },
  {
   "cell_type": "markdown",
   "id": "39b0ea64-17d6-4442-8121-bd392bc53724",
   "metadata": {},
   "source": [
    "Some of the popular languages that Data Scientists use are:\n",
    "\n",
    "1. Python\n",
    "2. Java\n",
    "3. Scala"
   ]
  },
  {
   "cell_type": "markdown",
   "id": "b2a850ec-00fa-438e-a33b-5ee377cae8e9",
   "metadata": {},
   "source": [
    "Some of the commonly used libraries used by Data Scientists include:\n",
    "1. Matplotlib\n",
    "2. Pandas\n",
    "3. Ggplot"
   ]
  },
  {
   "cell_type": "markdown",
   "id": "697c113e-151e-436b-826d-8dfd16152bfe",
   "metadata": {},
   "source": [
    "|Data Science Tools|\n",
    "|------------------|\n",
    "| Jupyter Notebook |\n",
    "|RStudio|\n",
    "|Apache Zeppelin|"
   ]
  },
  {
   "cell_type": "markdown",
   "id": "a6fe22a3-48d2-4e1d-a741-7ba65842114a",
   "metadata": {},
   "source": [
    "### Below are a few examples of evaluating arithmetic expressions in Python"
   ]
  },
  {
   "cell_type": "code",
   "execution_count": 9,
   "id": "9c4800b1-5a66-4795-b2e7-942b962ac6f2",
   "metadata": {},
   "outputs": [
    {
     "data": {
      "text/plain": [
       "17"
      ]
     },
     "execution_count": 9,
     "metadata": {},
     "output_type": "execute_result"
    }
   ],
   "source": [
    "(3 * 4) + 5 #This a simple arithmetic expression to multiply then add integers"
   ]
  },
  {
   "cell_type": "code",
   "execution_count": 11,
   "id": "e0f95b60-5a64-44b8-b34c-08cbf3501eed",
   "metadata": {},
   "outputs": [
    {
     "data": {
      "text/plain": [
       "3.3333333333333335"
      ]
     },
     "execution_count": 11,
     "metadata": {},
     "output_type": "execute_result"
    }
   ],
   "source": [
    "(200/60)#This will convert 200 minutes to hours by diving by 60"
   ]
  },
  {
   "cell_type": "markdown",
   "id": "3f88cb66-b634-42e6-821f-e9e4cff8555d",
   "metadata": {},
   "source": [
    "**Objectives:**\n",
    "\n",
    "* Python\n",
    "* java\n",
    "* Scala\n",
    "* C++"
   ]
  },
  {
   "cell_type": "markdown",
   "id": "ea2fe32b-e631-4de0-902d-2bd7456fc80b",
   "metadata": {},
   "source": [
    "## Author\n",
    "Farıd"
   ]
  },
  {
   "cell_type": "code",
   "execution_count": null,
   "id": "c74dea93-aa3f-449d-a450-4b8184555697",
   "metadata": {},
   "outputs": [],
   "source": []
  }
 ],
 "metadata": {
  "kernelspec": {
   "display_name": "Python 3 (ipykernel)",
   "language": "python",
   "name": "python3"
  },
  "language_info": {
   "codemirror_mode": {
    "name": "ipython",
    "version": 3
   },
   "file_extension": ".py",
   "mimetype": "text/x-python",
   "name": "python",
   "nbconvert_exporter": "python",
   "pygments_lexer": "ipython3",
   "version": "3.12.7"
  }
 },
 "nbformat": 4,
 "nbformat_minor": 5
}
